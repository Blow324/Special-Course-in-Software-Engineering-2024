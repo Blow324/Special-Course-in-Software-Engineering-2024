{
 "cells": [
  {
   "cell_type": "markdown",
   "metadata": {},
   "source": [
    "1. Ask user to enter a string and check that it is made up only alphabets:"
   ]
  },
  {
   "cell_type": "code",
   "execution_count": null,
   "metadata": {},
   "outputs": [],
   "source": [
    "# 获取用户输入的字符串\n",
    "user_input = input(\"请输入一个字符串：\")\n",
    "\n",
    "# 检查字符串是否仅由字母组成\n",
    "if user_input.isalpha():\n",
    "    print(\"该字符串仅由字母组成。\")\n",
    "else:\n",
    "    print(\"该字符串包含非字母字符。\")"
   ]
  },
  {
   "cell_type": "markdown",
   "metadata": {},
   "source": [
    "2. Now, make sure that the string is made up of both alphabets and numbers:\n",
    "\n",
    "TRY using isalnum() function and then entering only alhpabets in the string and see what happens."
   ]
  },
  {
   "cell_type": "code",
   "execution_count": null,
   "metadata": {},
   "outputs": [],
   "source": [
    "# Define a string input\n",
    "user_input = input(\"Enter a string: \")\n",
    "\n",
    "# Check if the string contains both alphabets and numbers\n",
    "if user_input.isalnum() and any(char.isdigit() for char in user_input) and any(char.isalpha() for char in user_input):\n",
    "    print(\"The string contains both alphabets and numbers.\")\n",
    "else:\n",
    "    print(\"The string does not contain both alphabets and numbers.\")\n"
   ]
  },
  {
   "cell_type": "markdown",
   "metadata": {},
   "source": [
    "3. Now, make sure that the string is made up of both alphabets and at least one number:\n"
   ]
  },
  {
   "cell_type": "code",
   "execution_count": null,
   "metadata": {},
   "outputs": [],
   "source": [
    "# Define a string input\n",
    "user_input = input(\"Enter a string: \")\n",
    "\n",
    "# Check if the string contains both alphabets and at least one number\n",
    "if any(char.isalpha() for char in user_input) and any(char.isdigit() for char in user_input):\n",
    "    print(\"The string contains both alphabets and at least one number.\")\n",
    "else:\n",
    "    print(\"The string does not meet the requirement of containing both alphabets and at least one number.\")\n"
   ]
  },
  {
   "cell_type": "markdown",
   "metadata": {},
   "source": [
    "4. Now, make sure that the string is made up of both alphabets, at least one number, and at least one special character:"
   ]
  },
  {
   "cell_type": "code",
   "execution_count": null,
   "metadata": {},
   "outputs": [],
   "source": [
    "# Define a string input\n",
    "user_input = input(\"Enter a string: \")\n",
    "\n",
    "# Check if the string contains alphabets, at least one number, and at least one special character\n",
    "if (\n",
    "    any(char.isalpha() for char in user_input) and\n",
    "    any(char.isdigit() for char in user_input) and\n",
    "    any(not char.isalnum() for char in user_input)  # checks for special characters\n",
    "):\n",
    "    print(\"The string contains alphabets, at least one number, and at least one special character.\")\n",
    "else:\n",
    "    print(\"The string does not meet the requirement of containing alphabets, at least one number, and at least one special character.\")\n"
   ]
  },
  {
   "cell_type": "markdown",
   "metadata": {},
   "source": [
    "5. Now, modify the above code so that if the user enters an invalid string, the program should ask the user to enter another string again, and keep asking until a valid string has been entered."
   ]
  },
  {
   "cell_type": "code",
   "execution_count": null,
   "metadata": {},
   "outputs": [],
   "source": [
    "while True:\n",
    "    # Define a string input\n",
    "    user_input = input(\"Enter a string: \")\n",
    "\n",
    "    # Check if the string contains alphabets, at least one number, and at least one special character\n",
    "    if (\n",
    "        any(char.isalpha() for char in user_input) and\n",
    "        any(char.isdigit() for char in user_input) and\n",
    "        any(not char.isalnum() for char in user_input)  # checks for special characters\n",
    "    ):\n",
    "        print(\"The string contains alphabets, at least one number, and at least one special character.\")\n",
    "        break  # Exit the loop when a valid string is entered\n",
    "    else:\n",
    "        print(\"Invalid string. Please enter a string that contains alphabets, at least one number, and at least one special character.\")\n"
   ]
  }
 ],
 "metadata": {
  "kernelspec": {
   "display_name": "Python 3",
   "language": "python",
   "name": "python3"
  },
  "language_info": {
   "codemirror_mode": {
    "name": "ipython",
    "version": 3
   },
   "file_extension": ".py",
   "mimetype": "text/x-python",
   "name": "python",
   "nbconvert_exporter": "python",
   "pygments_lexer": "ipython3",
   "version": "3.11.5"
  }
 },
 "nbformat": 4,
 "nbformat_minor": 2
}
